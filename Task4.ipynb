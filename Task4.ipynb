{
  "nbformat": 4,
  "nbformat_minor": 0,
  "metadata": {
    "colab": {
      "provenance": [],
      "authorship_tag": "ABX9TyN0ZuXHrWK3rvb+cCQUsef6",
      "include_colab_link": true
    },
    "kernelspec": {
      "name": "python3",
      "display_name": "Python 3"
    },
    "language_info": {
      "name": "python"
    }
  },
  "cells": [
    {
      "cell_type": "markdown",
      "metadata": {
        "id": "view-in-github",
        "colab_type": "text"
      },
      "source": [
        "<a href=\"https://colab.research.google.com/github/Ayesha52774/PRODIGY-DS-04/blob/main/Task4.ipynb\" target=\"_parent\"><img src=\"https://colab.research.google.com/assets/colab-badge.svg\" alt=\"Open In Colab\"/></a>"
      ]
    },
    {
      "cell_type": "markdown",
      "source": [
        "\n",
        "Task-04\n",
        "Analyze and visualize sentiment patterns in social media\n",
        "data to understand public opinion and attitudes towards\n",
        "specific topics or brands."
      ],
      "metadata": {
        "id": "kYWSIzgosUzN"
      }
    },
    {
      "cell_type": "code",
      "source": [
        "import pandas as pd\n",
        "\n",
        "# 🎯 Directly load CSV from GitHub raw link\n",
        "url = \"https://raw.githubusercontent.com/Ishan1812/PRODIGY_DS_04/main/Task4.csv\"\n",
        "\n",
        "# pd.read_csv() fetches and imports the dataset in one line\n",
        "df = pd.read_csv(url)\n",
        "\n",
        "# Preview to verify it loaded correctly\n",
        "print(df.head())"
      ],
      "metadata": {
        "colab": {
          "base_uri": "https://localhost:8080/"
        },
        "id": "8oWlTZnZt7Rc",
        "outputId": "aa33cb2d-f08e-48b5-a730-528aec0b5165"
      },
      "execution_count": null,
      "outputs": [
        {
          "output_type": "stream",
          "name": "stdout",
          "text": [
            "   2401  Borderlands  Positive  \\\n",
            "0  2401  Borderlands  Positive   \n",
            "1  2401  Borderlands  Positive   \n",
            "2  2401  Borderlands  Positive   \n",
            "3  2401  Borderlands  Positive   \n",
            "4  2401  Borderlands  Positive   \n",
            "\n",
            "  im getting on borderlands and i will murder you all ,  \n",
            "0  I am coming to the borders and I will kill you...     \n",
            "1  im getting on borderlands and i will kill you ...     \n",
            "2  im coming on borderlands and i will murder you...     \n",
            "3  im getting on borderlands 2 and i will murder ...     \n",
            "4  im getting into borderlands and i can murder y...     \n"
          ]
        }
      ]
    },
    {
      "cell_type": "code",
      "source": [
        "print(df.info())\n",
        "print(df.columns)\n",
        "print(df.shape)"
      ],
      "metadata": {
        "colab": {
          "base_uri": "https://localhost:8080/"
        },
        "id": "ZRiHqLMluHg0",
        "outputId": "13bf049c-36e5-4aa5-8a34-db4e29d2c3ad"
      },
      "execution_count": null,
      "outputs": [
        {
          "output_type": "stream",
          "name": "stdout",
          "text": [
            "<class 'pandas.core.frame.DataFrame'>\n",
            "RangeIndex: 74681 entries, 0 to 74680\n",
            "Data columns (total 4 columns):\n",
            " #   Column                                                 Non-Null Count  Dtype \n",
            "---  ------                                                 --------------  ----- \n",
            " 0   2401                                                   74681 non-null  int64 \n",
            " 1   Borderlands                                            74681 non-null  object\n",
            " 2   Positive                                               74681 non-null  object\n",
            " 3   im getting on borderlands and i will murder you all ,  73995 non-null  object\n",
            "dtypes: int64(1), object(3)\n",
            "memory usage: 2.3+ MB\n",
            "None\n",
            "Index(['2401', 'Borderlands', 'Positive',\n",
            "       'im getting on borderlands and i will murder you all ,'],\n",
            "      dtype='object')\n",
            "(74681, 4)\n"
          ]
        }
      ]
    },
    {
      "cell_type": "code",
      "source": [
        "# Rename the columns for clarity\n",
        "df.columns = ['id', 'topic', 'label', 'text']\n",
        "\n",
        "# Verify\n",
        "print(df.columns)\n",
        "print(df.head())"
      ],
      "metadata": {
        "colab": {
          "base_uri": "https://localhost:8080/"
        },
        "id": "O7GTGMjQuoM-",
        "outputId": "67796525-beb5-4efd-d74f-60787d163bcc"
      },
      "execution_count": null,
      "outputs": [
        {
          "output_type": "stream",
          "name": "stdout",
          "text": [
            "Index(['id', 'topic', 'label', 'text'], dtype='object')\n",
            "     id        topic     label  \\\n",
            "0  2401  Borderlands  Positive   \n",
            "1  2401  Borderlands  Positive   \n",
            "2  2401  Borderlands  Positive   \n",
            "3  2401  Borderlands  Positive   \n",
            "4  2401  Borderlands  Positive   \n",
            "\n",
            "                                                text  \n",
            "0  I am coming to the borders and I will kill you...  \n",
            "1  im getting on borderlands and i will kill you ...  \n",
            "2  im coming on borderlands and i will murder you...  \n",
            "3  im getting on borderlands 2 and i will murder ...  \n",
            "4  im getting into borderlands and i can murder y...  \n"
          ]
        }
      ]
    },
    {
      "cell_type": "code",
      "source": [
        "# Drop rows with missing text\n",
        "df = df.dropna(subset=['text'])\n",
        "\n",
        "# Reset index\n",
        "df = df.reset_index(drop=True)\n",
        "\n",
        "print(df.shape)  # check new size"
      ],
      "metadata": {
        "colab": {
          "base_uri": "https://localhost:8080/"
        },
        "id": "Fy646uzLuvQv",
        "outputId": "ad203aed-8a3b-468d-c5ba-dfac19814edd"
      },
      "execution_count": null,
      "outputs": [
        {
          "output_type": "stream",
          "name": "stdout",
          "text": [
            "(73995, 4)\n"
          ]
        }
      ]
    },
    {
      "cell_type": "code",
      "source": [
        "print(df['label'].value_counts())"
      ],
      "metadata": {
        "colab": {
          "base_uri": "https://localhost:8080/"
        },
        "id": "olw4Wyr9vAfN",
        "outputId": "57c8d0e1-0e02-4223-e558-e0df3612e3b7"
      },
      "execution_count": null,
      "outputs": [
        {
          "output_type": "stream",
          "name": "stdout",
          "text": [
            "label\n",
            "Negative      22358\n",
            "Positive      20654\n",
            "Neutral       18108\n",
            "Irrelevant    12875\n",
            "Name: count, dtype: int64\n"
          ]
        }
      ]
    },
    {
      "cell_type": "code",
      "source": [
        "import seaborn as sns\n",
        "import matplotlib.pyplot as plt\n",
        "\n",
        "sns.countplot(data=df, x='label', palette='coolwarm')\n",
        "plt.title(\"Sentiment Distribution\")\n",
        "plt.show()"
      ],
      "metadata": {
        "colab": {
          "base_uri": "https://localhost:8080/",
          "height": 333
        },
        "id": "bp9zPj_2vHef",
        "outputId": "728d75f2-632d-414c-d646-d0613932b4d6"
      },
      "execution_count": null,
      "outputs": [
        {
          "output_type": "stream",
          "name": "stderr",
          "text": [
            "/tmp/ipython-input-16-112860820.py:4: FutureWarning: \n",
            "\n",
            "Passing `palette` without assigning `hue` is deprecated and will be removed in v0.14.0. Assign the `x` variable to `hue` and set `legend=False` for the same effect.\n",
            "\n",
            "  sns.countplot(data=df, x='label', palette='coolwarm')\n"
          ]
        },
        {
          "output_type": "display_data",
          "data": {
            "text/plain": [
              "<Figure size 640x480 with 1 Axes>"
            ],
            "image/png": "[encoded data removed]"
          },
          "metadata": {}
        }
      ]
    },
    {
      "cell_type": "code",
      "source": [
        "sentiment_percent = df['label'].value_counts(normalize=True) * 100\n",
        "print(sentiment_percent)"
      ],
      "metadata": {
        "colab": {
          "base_uri": "https://localhost:8080/"
        },
        "id": "rtU5MNSAvSIl",
        "outputId": "16821c30-6463-4d35-d62b-99388a31ef94"
      },
      "execution_count": null,
      "outputs": [
        {
          "output_type": "stream",
          "name": "stdout",
          "text": [
            "label\n",
            "Negative      30.215555\n",
            "Positive      27.912697\n",
            "Neutral       24.471924\n",
            "Irrelevant    17.399824\n",
            "Name: proportion, dtype: float64\n"
          ]
        }
      ]
    },
    {
      "cell_type": "code",
      "source": [
        "df['label'].value_counts().plot.pie(autopct='%1.1f%%', figsize=(6,6), colors=['red','green','grey','orange'])\n",
        "plt.title(\"Sentiment Share\")\n",
        "plt.ylabel(\"\")\n",
        "plt.show()"
      ],
      "metadata": {
        "id": "WdbbtBLKwRSx",
        "outputId": "52c6ae91-9593-421d-d570-a75d38c796ff",
        "colab": {
          "base_uri": "https://localhost:8080/",
          "height": 289
        }
      },
      "execution_count": null,
      "outputs": [
        {
          "output_type": "display_data",
          "data": {
            "text/plain": [
              "<Figure size 600x600 with 1 Axes>"
            ],
            "image/png": "[encoded data removed]"
          },
          "metadata": {}
        }
      ]
    },
    {
      "cell_type": "markdown",
      "source": [
        "✅ What I did:\n",
        "\n",
        "Loaded a social media dataset about the game Borderlands with ~74,000 posts.\n",
        "\n",
        "Renamed messy columns to make them clear (id, topic, label, text).\n",
        "\n",
        "Checked how many posts were Positive, Negative, Neutral, or Irrelevant.\n",
        "\n",
        "Visualized the sentiment using a bar chart, pie chart.\n",
        "\n",
        "\n",
        "\n",
        "---\n",
        "\n",
        "✅ What the data was about:\n",
        "It contained social media messages where people expressed their opinions about Borderlands. Each post already had a sentiment label like Positive, Negative, Neutral, or Irrelevant.\n",
        "\n",
        "\n",
        "---\n",
        "\n",
        "✅ What results I got:\n",
        "\n",
        "Negative posts (22k) were slightly more than Positive posts (20k) → showing mixed but slightly negative public opinion.\n",
        "\n",
        "Neutral posts (18k) were just factual, and some (12k) were irrelevant."
      ],
      "metadata": {
        "id": "cUkCSLqCxiN8"
      }
    },
    {
      "cell_type": "markdown",
      "source": [
        "So, overall, people had mixed feelings about Borderlands—many liked it, but there were also a lot of complaints."
      ],
      "metadata": {
        "id": "Jonx2C9NyUwk"
      }
    }
  ]
}